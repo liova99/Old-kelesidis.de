{
 "cells": [
  {
   "cell_type": "markdown",
   "metadata": {},
   "source": [
    "As I learned python I don’t invest my time to learn PHP, so I don’t know PHP and I decided to implement this project to my webpage where I use python flask and MySQL for the backend."
   ]
  },
  {
   "cell_type": "markdown",
   "metadata": {},
   "source": [
    "The task was to create a simple web app to manage a small shop. \n",
    "First, I visualize and create the database:\n",
    "<br>\n",
    "\n",
    "![db](files/db_visual.jpg)\n",
    "<br><br>"
   ]
  },
  {
   "cell_type": "markdown",
   "metadata": {},
   "source": [
    "I created my html file [Source Code][1]<br>\n",
    "and the views [Source Code][2]\n",
    "\n",
    "[1]:https://github.com/liova99/kelesidis.de/blob/master/app/templates/leo_markt/leo_markt.html \"HTML file source code\"\n",
    "[2]:https://github.com/liova99/kelesidis.de/blob/master/app/views/leo_markt.py \"views file source code\""
   ]
  },
  {
   "cell_type": "code",
   "execution_count": null,
   "metadata": {
    "collapsed": true
   },
   "outputs": [],
   "source": [
    "# views/leo_markt.py file\n",
    "\n",
    "from flask import render_template, Blueprint, flash, request\n",
    "\n",
    "\n",
    "@leo_markt_blueprint.route(\"/leo_markt/\", methods = [\"GET\", \"POST\"])\n",
    "def leo_martk():\n",
    "\n",
    "    title = \"Market DataBase Example\"\n",
    "\n",
    "    return render_template(\"/leo_markt/leo_markt.html\", title = title)"
   ]
  },
  {
   "cell_type": "code",
   "execution_count": null,
   "metadata": {
    "collapsed": true
   },
   "outputs": [],
   "source": [
    "# <!-- templates/leo_markt.html -->\n",
    "\n",
    "{% extends \"base.html\" %}\n",
    "<! DOCTYPE html >\n",
    "<html lang=\"en\">\n",
    "    <title> {{title}}\n",
    "............................\n",
    "\n",
    "<body >\n",
    "    <div id=\"container\">\n",
    "        <div id=\"content\">\n",
    "        \n",
    "        \n",
    "        </div>\n",
    "    </div>    \n",
    "</body>"
   ]
  },
  {
   "cell_type": "markdown",
   "metadata": {},
   "source": [
    "Added some button and inputs to html"
   ]
  },
  {
   "cell_type": "code",
   "execution_count": null,
   "metadata": {
    "collapsed": true
   },
   "outputs": [],
   "source": [
    "<div id=\"add_product\">\n",
    "    <form  class=\"add_product_form\" action=\"\"  method=\"POST\" style=\"display:block\">\n",
    "        <input id=\"product_name\" name=\"product_name\"  type=\"text\" placeholder=\"Add Product Name\" required><br>\n",
    "        <textarea  id=\"product_description\" name=\"product_description\" placeholder=\"Add Description\" ></textarea><br>\n",
    "        <input id=\"product_price\" name=\"price\"  type=\"number\" step=\"0.01\" placeholder=\"Add Price\" required><br>\n",
    "        <input id=\"availability\" name=\"product_availability\"  type=\"number\" placeholder=\"Availability\"><br>\n",
    "        <select name=\"categories\" id=\"categories\" required>\n",
    "            <option value=\"\">Select a category</option>\n",
    "            {% for category in categories %}\n",
    "                <option  name=\"{{category}}\">{{category}}</option>\n",
    "            {% endfor %}\n",
    "        </select><br>\n",
    "        <button id=\"submit_product_btn\" name=\"add\" type=\"submit\" value=\"add_product\"> Add </button>\n",
    "    </form>\n",
    "</div>\n",
    "\n",
    "<table class=\"products_list_table\">\n",
    "    <tr>\n",
    "        <th>Name</th>\n",
    "        <th>Price</th>\n",
    "        <th>Availability</th>\n",
    "        <th>Category</th>\n",
    "    </tr>\n",
    "    \n",
    "#    <!- A for loop to access all items from MySQL -->\n",
    "{% for pr_id, pr_name, pr_price, pr_availability, pr_categories in products_zip %}\n",
    "    <tr id=\"{{ pr_id }}\" onclick=\"id_num(this);\n",
    "    document.getElementById('show_details_box').style.display='block';\">\n",
    "        <td>{{ pr_name }}</td>\n",
    "        <td>{{ pr_price }}</td>\n",
    "        <td>{{ pr_availability }}</td>\n",
    "        <td>{{ pr_categories }}</td>\n",
    "\n",
    "{% endfor %}\n",
    "    </tr>\n",
    "</table >\n",
    "\n",
    "..........................."
   ]
  },
  {
   "cell_type": "markdown",
   "metadata": {},
   "source": [
    "![markt_1](files/leo_markt_2.jpg)"
   ]
  },
  {
   "cell_type": "markdown",
   "metadata": {},
   "source": [
    "Now let ‘s see what we can do with the backend. <br>\n",
    "I created a python file my_func\\leo_markt.py, and  add there all my functions. [Source Code](https://github.com/liova99/kelesidis.de/blob/master/app/my_func/leo_markt.py \"my functions source code\")\n",
    "\n"
   ]
  },
  {
   "cell_type": "code",
   "execution_count": null,
   "metadata": {
    "collapsed": true
   },
   "outputs": [],
   "source": [
    "# my_func\\leo_markt.py\n",
    "\n",
    "def add_product(product_name, product_description, price, category, availability):\n",
    "    \n",
    "    ...............\n",
    "    \n",
    "    if request.method == \"POST\":\n",
    "\n",
    "        cur, conn = mysql_connect(\"leo_markt\") \n",
    "        cur.execute(\"\"\"INSERT INTO products (name, description, price, category, availability) VALUES (%s,%s,%s,%s,%s)\"\"\",\n",
    "                    (product_name, product_description, price, category, availability))\n",
    "        conn.commit()\n",
    "        print (\"changes committed\")\n",
    "        cur.close()\n",
    "        conn.close()\n",
    "        print (\"Connection closed\")\n",
    "        return True\n",
    "    \n",
    "    \n",
    "def add_category():\n",
    "    .................\n",
    "\n",
    "    \n",
    "def remove_category():\n",
    "    ...................\n",
    "    \n",
    "    \n",
    "def show_products():\n",
    "    ..................."
   ]
  },
  {
   "cell_type": "markdown",
   "metadata": {},
   "source": [
    "We access those functions from our view file:"
   ]
  },
  {
   "cell_type": "code",
   "execution_count": null,
   "metadata": {
    "collapsed": true
   },
   "outputs": [],
   "source": [
    "# request.form[\" form name\"] == \"form value\" | html: <button id=\"sub_prd_btn\" name=\"add\" type=\"submit\" value=\"add_category\">\n",
    "if (request.method == \"POST\") and (request.form[\"add\"] == \"add_product\"):\n",
    "    add_product()\n",
    "elif (request.method == \"POST\") and (request.form['add'] == \"add_category\"):\n",
    "    add_category()\n",
    "    .................."
   ]
  },
  {
   "cell_type": "markdown",
   "metadata": {},
   "source": [
    "<br>\n",
    "The “hard” part was to show product details. As long, I never needed to write my own javascript I don’t learn it.   \n",
    "Therefore, I spend couple of days to learn the basic of JS/ajax and figure out how to implement it with flask. (First, I make it with JS/http request, but everybody uses jQuery for ajax, so I turned to jQuery).\n",
    "<br><br>\n",
    "![product_details](files/product_details.jpg)"
   ]
  },
  {
   "cell_type": "markdown",
   "metadata": {},
   "source": [
    "<br>\n",
    "Because I don't used ajax from the beginning, after any action the user must to reload the page to see the changes, so I create a flash message like a modal, and after the user press close the page will reload. (Of course, I add a refresh button like the old days for any case)\n",
    "<br>\n",
    "\n",
    "![sold_modal](files/sold_modal.jpg)"
   ]
  },
  {
   "cell_type": "markdown",
   "metadata": {},
   "source": [
    "The most importand TODO is to use ajax in all forms. For example if the user will add a negative price, the page will reload after submit and as long the form is in hidden tag by default, the user will not even see the error flash message. My temporary solution was to create an HTML clone page, so the user will see the error message but he must to rewrite everything. \n",
    "<br><br>\n",
    "\n",
    "![add_product](files/add_prd.jpg)"
   ]
  },
  {
   "cell_type": "markdown",
   "metadata": {},
   "source": [
    "For the frontend I love clean and minimalistic design. The green and the courier font’s is because I used it on my website design and I don’t like to mess with many fonts’s. \n",
    "<br><br>\n",
    "\n",
    "![leo_mark_design](files/leo_markt_design.jpg)"
   ]
  },
  {
   "cell_type": "markdown",
   "metadata": {},
   "source": [
    "Font’s like the “Henry Morgan hand” doesn’t fit in the product description design as it isn’t a “renaissance store”, but I add \"verona script\" to my welcome message, it doesn’t fit either but… ok. \n",
    "<br><br>\n",
    "\n",
    "![welcome_leo_markt](files/welcome.jpg)"
   ]
  },
  {
   "cell_type": "markdown",
   "metadata": {},
   "source": [
    "Last I add a chart which reads data from sold table and updates on every sold<br>\n",
    "![leo_markt_chart](files/chart.jpg)"
   ]
  },
  {
   "cell_type": "markdown",
   "metadata": {},
   "source": [
    "# <center>Q&A</center>"
   ]
  },
  {
   "cell_type": "markdown",
   "metadata": {},
   "source": [
    "### How much time do you spend for this app? "
   ]
  },
  {
   "cell_type": "markdown",
   "metadata": {},
   "source": [
    "To make this app I spend ~ 3-4 days plus ~ 1-2 days to learn some JS/ajax and find how I can implement it in a python Flask app."
   ]
  },
  {
   "cell_type": "markdown",
   "metadata": {},
   "source": [
    "### Level of difficulty?"
   ]
  },
  {
   "cell_type": "markdown",
   "metadata": {},
   "source": [
    "3/5"
   ]
  },
  {
   "cell_type": "markdown",
   "metadata": {},
   "source": [
    "### Can you make similar app without \"outer world\" (google, your old code, etc.). ? "
   ]
  },
  {
   "cell_type": "markdown",
   "metadata": {},
   "source": [
    "No way, I always use cheat sheets and of course, google, as long I do not make the same thinks from day to day"
   ]
  }
 ],
 "metadata": {
  "kernelspec": {
   "display_name": "Python 3",
   "language": "python",
   "name": "python3"
  },
  "language_info": {
   "codemirror_mode": {
    "name": "ipython",
    "version": 3
   },
   "file_extension": ".py",
   "mimetype": "text/x-python",
   "name": "python",
   "nbconvert_exporter": "python",
   "pygments_lexer": "ipython3",
   "version": "3.5.0"
  }
 },
 "nbformat": 4,
 "nbformat_minor": 0
}
